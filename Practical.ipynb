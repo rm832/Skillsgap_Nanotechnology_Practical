{
 "cells": [
  {
   "cell_type": "markdown",
   "id": "9ee0ac2d",
   "metadata": {},
   "source": [
    "<h1> Nanotechnology Practical </h1>\n",
    "\n",
    "<h2> 0. Getting set up </h2>\n",
    "\n",
    "<h3> 0.1 How to use this notebook </h3> \n",
    "<br>\n",
    "<font size=\"3\">\n",
    "This exercise is written using a programming language called Python. It is used not only by scientists but also people working in data science, AI, engineering and many other fields because it is free and relatively simple to get started on. \n",
    "<br>\n",
    "<br>\n",
    "Don't worry - you don't need to know any Python to run this exercise! We are going to work through everything together. However, everything is written so that you can run some Python code without having to write anything yourself if you don't want to. Remember - the purpose of this practical is to give you a feel for things. I don't expect you to remember or understand everything, particularly the Python code. \n",
    "<br>\n",
    "<br>\n",
    "Today, we will be running Python using this <i>Jupyter</i> notebook. All of the Python code is broken down into individual cells. You work through the notebook by running each cell in turn. To do this, (1) left click on the cell you want to run. (2) Press <b>Run </b> at the top of the page, or press <b> shift + Enter </b> together. \n",
    "</font>\n",
    "\n"
   ]
  },
  {
   "cell_type": "markdown",
   "id": "39829317",
   "metadata": {},
   "source": [
    "<div class=\"alert alert-block alert-success\">\n",
    "<font size=\"3\">\n",
    "<b>Question 0:</b> Try running the cell below (Python should output \"My name is Bob\"). Then try changing the name.\n",
    "</font>\n",
    "</div>"
   ]
  },
  {
   "cell_type": "code",
   "execution_count": null,
   "id": "2f97d515",
   "metadata": {},
   "outputs": [],
   "source": [
    "# Get Python to output some text\n",
    "\n",
    "name = \"Bob\" # <- try changing the text by replacing what is inside the \"---\"\n",
    "\n",
    "print(\"My name is %s\" %name)"
   ]
  },
  {
   "cell_type": "markdown",
   "id": "369c6362",
   "metadata": {},
   "source": [
    "<h3> 0.2 Setting up Python </h3>\n",
    "<br>\n",
    "<font size=\"3\">\n",
    "Before we can start looking at some data, we need to import some packages to help Python run. We also need to load our data. \n",
    "<br><br>\n",
    "Try running the two cells below in order. \n",
    "</font>"
   ]
  },
  {
   "cell_type": "code",
   "execution_count": null,
   "id": "19317d53",
   "metadata": {},
   "outputs": [],
   "source": [
    "################################# Import all of the necessary Python packages ################################# \n",
    "\n",
    "import cv2 # for handling images\n",
    "import numpy as np # for dealing running calculations on our images\n",
    "from numpy import genfromtxt # for loading data files\n",
    "from matplotlib import pyplot as plt # for creating nice plots of our data\n",
    "from matplotlib.ticker import (MultipleLocator, FormatStrFormatter,AutoMinorLocator)"
   ]
  },
  {
   "cell_type": "code",
   "execution_count": null,
   "id": "d61841ef",
   "metadata": {},
   "outputs": [],
   "source": [
    "########################################  Load our data into Python  ######################################### \n",
    "\n",
    "# SEM images\n",
    "sem_image_mono = cv2.imread(r\"1L_graphene.png\",0)\n",
    "sem_image_multi = cv2.imread(r\"ML_graphene.png\",0)\n",
    "sem_image_messy = cv2.imread(r\"messy_graphene.png\",0)\n",
    "\n",
    "# Raman spectra and maps\n",
    "raman_spectrum = genfromtxt(r\"Raman_spectrum.txt\", delimiter=\",\")\n",
    "raman_map_D = genfromtxt(r\"D.txt\",delimiter=\",\")\n",
    "raman_map_G = genfromtxt(r\"G.txt\",delimiter=\",\")\n",
    "raman_map_2D = genfromtxt(r\"2D.txt\",delimiter=\",\")"
   ]
  },
  {
   "cell_type": "markdown",
   "id": "2d500add",
   "metadata": {},
   "source": [
    "<h2> 1. Looking at graphene with a scanning electron microscope (SEM)</h2>\n",
    "\n",
    "<h3> 1.1 What is a scanning electron microscope (SEM)? </h3>\n",
    "<br>\n",
    "<font size=\"3\">\n",
    "As the name suggests, it's a microscope! But, this is no ordinary microscope. \n",
    "<br>\n",
    "<br>\n",
    "With a \"normal\" microscope, images are formed by collecting visible light that reflects off from objects. This type of microscope is also called an optical microscope. In a scanning electron microscope, we don't use light to create our images. Instead, a tightly focused beam of electrons is scanned over the material. This causes the material to eject electrons of its own, which we can collect to form an image. \n",
    "</font>\n",
    "<br>\n",
    "<br>\n",
    "<img src=\"SEM_mechanism.png\" alt=\"Alt\" title=\"How SEM works\" style=\"height:380px\"/>\n",
    "\n",
    "<h3> 1.2 Why electrons though? </h3>\n",
    "<br>\n",
    "<font size=\"3\">\n",
    "An image can only be as detailed as the probe we use. If we want to see something on the nanoscale, we have to use something equally small. Imagine trying to feel nano-sized bumps with your finger - no chance. Remember that visible light has a wavelength between ~400 and 700 nanometres? This is too long if you want to see anything that is 1, 10 or even 100 nanometres. Visible light is too \"big\". \n",
    "<br>\n",
    "<br>\n",
    "Due to quantum mechanics, electrons also have wavelengths. In a scanning electron microscope, electrons can have wavelengths of down to 0.01 nanometres! This makes them much better suited for looking at fine, nanoscale features. \n",
    "</font>\n",
    "    \n",
    "<h3> 1.3 SEM image of graphene </h3>\n",
    "<br>\n",
    "<font size=\"3\">\n",
    "Let's have a look at some SEM images of graphene! Try running the cells below.\n",
    "</font>"
   ]
  },
  {
   "cell_type": "code",
   "execution_count": null,
   "id": "855e5be9",
   "metadata": {},
   "outputs": [],
   "source": [
    "# SEM image of a graphene flake (1 layer)\n",
    "\n",
    "fig,ax = plt.subplots(figsize=(6,6));\n",
    "ax.imshow(sem_image_mono, cmap=\"gray\"); # <- this line specifies which picture is being shown. \n",
    "\n",
    "ax.axes.xaxis.set_visible(False)\n",
    "ax.axes.yaxis.set_visible(False)\n",
    "plt.title(\"Graphene flake, 1 layer\", fontsize=16);"
   ]
  },
  {
   "cell_type": "code",
   "execution_count": null,
   "id": "de10af3d",
   "metadata": {},
   "outputs": [],
   "source": [
    "# SEM image of many layers of graphene\n",
    "\n",
    "fig,ax = plt.subplots(figsize=(6,6));\n",
    "ax.imshow(sem_image_multi, cmap=\"gray\"); # this line specifies which file to show. Here, the file name is \"sem_image_multi\"\n",
    "\n",
    "ax.axes.xaxis.set_visible(False)\n",
    "ax.axes.yaxis.set_visible(False)\n",
    "plt.title(\"Graphene sheet, many layers\", fontsize=16);"
   ]
  },
  {
   "cell_type": "markdown",
   "id": "075ade83",
   "metadata": {},
   "source": [
    "\n",
    "<font size=\"3\">\n",
    "Some important features!\n",
    "    \n",
    " - <h4> Number of layers </h4><br>\n",
    "We can see graphene even when it is just 1 layer of carbon atoms!!  <br>\n",
    "When we have multiple layers, the contrast changes in steps. If we want to use graphene for electronics, the number of layers is very important to control because it can dramatically change how it conducts electricity. \n",
    "\n",
    " - <h4> Wrinkles </h4><br>\n",
    "We can also see some dark thin lines running across our graphene, which are usually wrinkled. In general, wrinkles are not good as they can strain graphene's chemical bonds and make the material defective. \n",
    "</font>"
   ]
  },
  {
   "cell_type": "markdown",
   "id": "9c685e2c",
   "metadata": {},
   "source": [
    "<font size=\"3\">\n",
    "Let's try something a bit harder - a slightly messier sample of graphene.\n",
    "</font>"
   ]
  },
  {
   "cell_type": "markdown",
   "id": "6da79ef6",
   "metadata": {},
   "source": [
    "<div class=\"alert alert-block alert-success\">\n",
    "<font size=\"3\">\n",
    "<b>Question 1:</b> Can you get Python to display the image \"sem_image_messy\"? <br><br> Hint 1: Try copying the code from the previous cell and changing the file name. <br>Hint 2: Too much? Don't worry! The answer is at the bottom of the notebook.\n",
    "</font>\n",
    "</div>"
   ]
  },
  {
   "cell_type": "code",
   "execution_count": null,
   "id": "33250603",
   "metadata": {
    "scrolled": false
   },
   "outputs": [],
   "source": [
    "###################################  Display the image \"sem_image_messy\"  ######################################\n"
   ]
  },
  {
   "cell_type": "markdown",
   "id": "a1938072",
   "metadata": {},
   "source": [
    "<div class=\"alert alert-block alert-success\">\n",
    "<font size=\"3\">\n",
    "<b>Question 2:</b> Can you figure out what's happening in this SEM image? What features can you see in the graphene?\n",
    "</font>\n",
    "</div>"
   ]
  },
  {
   "cell_type": "markdown",
   "id": "eea7c944",
   "metadata": {},
   "source": [
    "<h2> 2. Raman Spectroscopy</h2>\n",
    "\n",
    "<font size=\"3\">\n",
    "<br>\n",
    "Now that we've seen what graphene looks like, let's try to understand a bit more about the chemistry of the material. To do so, we are going to use Raman spectroscopy. \n",
    "<br>\n",
    "</font>\n",
    "    \n",
    "<h3> 2.1 What is Raman spectroscopy? </h3>\n",
    "<br>\n",
    "<font size=\"3\">\n",
    "Raman spectroscopy is a technique that allows us to understand how elements are chemically bonded in a material. First, we shine a material with an intense laser, causing the laser to be scattered. Some of the laser's energy is transferred to the material, causing certain chemical bonds in it to vibrate - this is known as <b>Raman scattering</b>. To analyse a material, we collect all of the laser light after it has been scattered and has activated these vibrations. \n",
    "\n",
    "<img src=\"Raman_mechanism.png\" alt=\"Alt\" title=\"How Raman spectroscopy works\" style=\"height:400px\"/>\n",
    "\n",
    "Each vibration needs a different amount of energy to activate. Therefore, the laser loses well-defined amounts of energy corresponding to each vibration - we view this by plotting a <b>spectrum</b>. \n",
    "<br>\n",
    "<br>\n",
    "</font>"
   ]
  },
  {
   "cell_type": "markdown",
   "id": "e78541d5",
   "metadata": {},
   "source": [
    "<div class=\"alert alert-block alert-success\">\n",
    "<font size=\"3\">\n",
    "<b>Question 3:</b> Can you name of any other types of spectroscopy?\n",
    "</font>\n",
    "</div>"
   ]
  },
  {
   "cell_type": "markdown",
   "id": "53573b29",
   "metadata": {},
   "source": [
    "<h3> 2.2 Raman spectroscopy for graphene </h3>\n",
    "<br>\n",
    "<font size=\"3\">\n",
    "As an example, let's take a look at what a Raman spectrum of graphene looks like.\n",
    "</font>"
   ]
  },
  {
   "cell_type": "code",
   "execution_count": null,
   "id": "908884f9",
   "metadata": {
    "scrolled": false
   },
   "outputs": [],
   "source": [
    "# Some parameters to control how the plot looks\n",
    "size = (10,6)\n",
    "x_limits = [1300,2800]\n",
    "y_limits = [-30,1300]\n",
    "\n",
    "# Plot the data\n",
    "fig,ax = plt.subplots(figsize=size)\n",
    "plt.plot(raman_spectrum[:,0],raman_spectrum[:,1])\n",
    "\n",
    "# Labelling axes, configuring the plot\n",
    "plt.xlabel(\"Wavenumber / cm$^{-1}$\", fontsize=17)\n",
    "plt.ylabel(\"Intensity\", fontsize=17)\n",
    "plt.xticks(np.arange(x_limits[0],x_limits[1],200), fontsize=14)\n",
    "plt.yticks(fontsize=14)\n",
    "ax.xaxis.set_minor_locator(MultipleLocator(50))\n",
    "ax.yaxis.set_minor_locator(MultipleLocator(50))\n",
    "plt.xlim(x_limits);\n",
    "plt.ylim(y_limits);\n",
    "plt.title(\"Raman spectrum of graphene\", fontsize=18, pad=12);\n",
    "\n",
    "\n",
    "# Labelling the peaks\n",
    "plt.text(1320,120,\"D\", fontsize=17);\n",
    "plt.text(1570,520,\"G\", fontsize=17);\n",
    "plt.text(2650,1220,\"2D\", fontsize=17);"
   ]
  },
  {
   "cell_type": "markdown",
   "id": "890c4a70",
   "metadata": {},
   "source": [
    "<font size=\"3\">\n",
    "The Raman spectrum is made up of several peaks. Each one corresponds to a specific bond vibration. You can think of the x-axis (wavenumber) as showing energy. So, each peak (i.e. vibration) has a different energy. \n",
    "<br><br>\n",
    "Graphene has 3 characteristic peaks that are important: (1) D peak, (2) G peak and (3) 2D peak.<br>\n",
    "\n",
    " - The D peak is an indicator of how \"bad\" our graphene is (i.e. how <b>D</b>efective it is). \n",
    "<br>\n",
    "<br>\n",
    " - The G peak is the main graphene peak (the \"G\" comes from <b>G</b>raphite, because this peak was first measured using graphite). <br> Usually, thicker graphene = taller G peak. \n",
    " <br>\n",
    "<br>\n",
    " - Measuring the width of the 2D peak is another way to tell how many layers of graphene there are. \n",
    "</font>"
   ]
  },
  {
   "cell_type": "markdown",
   "id": "0ccdf8c1",
   "metadata": {},
   "source": [
    "<h3> 2.3 Raman spectroscopy maps </h3>\n",
    "<br>\n",
    "<font size=\"3\">\n",
    "The chemical properties of graphene can change across a flake. So, we want to be able to see how the Raman spectrum of graphene changes with location. For example, what if we could see which parts of graphene are \"bad\" by looking for areas with tall D peaks?\n",
    "<br>\n",
    "<br>\n",
    "We can do this by taking Raman spectroscopy maps. <br> Instead of taking just 1 spectrum, we collect 100s or 1000s of Raman spectra from across our graphene. Run the cell below for an example:\n",
    "</font>"
   ]
  },
  {
   "cell_type": "code",
   "execution_count": null,
   "id": "95cd334b",
   "metadata": {},
   "outputs": [],
   "source": [
    "fig,ax=plt.subplots(figsize=(6,6));\n",
    "cax = fig.add_axes([0.15,0.05, 0.75, 0.05])\n",
    "im = ax.imshow(raman_map_D,vmax=0.2*np.amax(raman_map_D),cmap=\"inferno\");\n",
    "ax.axes.xaxis.set_visible(False);\n",
    "ax.axes.yaxis.set_visible(False);\n",
    "fig.colorbar(im, cax=cax, orientation=\"horizontal\");\n",
    "ax.set_title(\"D peak height\", fontsize=17, pad=15);"
   ]
  },
  {
   "cell_type": "markdown",
   "id": "e5c42d3d",
   "metadata": {},
   "source": [
    "<font size=\"3\">\n",
    "The map shows how tall (intense) the D peak was across this graphene sample. Don't worry about trying to understand everything now. This is just to demonstrate we can do this!\n",
    "</font>"
   ]
  },
  {
   "cell_type": "markdown",
   "id": "3e48eea0",
   "metadata": {},
   "source": [
    "<h2> 3. Using SEM and Raman spectroscopy together </h2>\n",
    "<br>\n",
    "<font size=\"3\">\n",
    "SEM and Raman spectroscopy are very powerful tools, especially when we use them together. SEM can tell us about how the graphene physically looks. Raman spectroscopy can give us chemical information. By bring them together, we can get a much better idea of what is happening with our material!\n",
    "<br>\n",
    "\n",
    "Let's look at graphene again, except this time we will use both SEM and Raman spectroscopy and look for any correlations. \n",
    "<br>\n",
    "</font>"
   ]
  },
  {
   "cell_type": "code",
   "execution_count": null,
   "id": "b4c3c6f2",
   "metadata": {},
   "outputs": [],
   "source": [
    "fig, (ax1,ax2) = plt.subplots(1,2,figsize=(14,12))\n",
    "\n",
    "im1 = ax1.imshow(sem_image_messy[345:510,370:550], cmap=\"gray\")\n",
    "ax1.axes.xaxis.set_visible(False)\n",
    "ax1.axes.yaxis.set_visible(False)\n",
    "ax1.set_title(\"SEM\", fontsize=17, pad=12)\n",
    "\n",
    "im2 = ax2.imshow(raman_map_G[50:,0:45],vmax=0.1*np.amax(raman_map_G),cmap=\"inferno\")\n",
    "cax2 = fig.add_axes([0.55,0.28, 0.36, 0.02])\n",
    "ax2.axes.xaxis.set_visible(False)\n",
    "ax2.axes.yaxis.set_visible(False)\n",
    "ax2.set_title(\"G peak height\", fontsize=17, pad=12);\n",
    "fig.colorbar(im2, ax=ax2, cax=cax2, orientation=\"horizontal\");"
   ]
  },
  {
   "cell_type": "markdown",
   "id": "e631e238",
   "metadata": {},
   "source": [
    "<font size=\"3\">\n",
    "The left-hand image is a close-up SEM image of our \"messy\" graphene. <br> The right-hand image shows how intense (i.e. tall) our G peak across the same area. Remember - the G peak is related to how much graphene we have!\n",
    "</font>"
   ]
  },
  {
   "cell_type": "markdown",
   "id": "4b95432e",
   "metadata": {},
   "source": [
    "<div class=\"alert alert-block alert-success\">\n",
    "<font size=\"3\">\n",
    "<b>Question 4:</b> Which parts of the SEM image show the lowest G peak height? \n",
    "    \n",
    "</font>\n",
    "</div>"
   ]
  },
  {
   "cell_type": "markdown",
   "id": "40f9fd50",
   "metadata": {},
   "source": [
    "<div class=\"alert alert-block alert-success\">\n",
    "<font size=\"3\">\n",
    "<b>Question 5:</b> Can you suggest a relationship between the colour in the SEM image and the height of the G peak? What does this mean in terms of graphene thickness?\n",
    "</font>\n",
    "</div>"
   ]
  },
  {
   "cell_type": "markdown",
   "id": "fe32c146",
   "metadata": {},
   "source": [
    "<h2> Extra stuff for the keen beans! (or if we have time) </h2>\n",
    "<br>\n",
    "<font size=\"3\">\n",
    "Repeat the same comparative analysis of SEM and Raman spectroscopy but for the D peak. Remember, this peak is a signature of defects in the graphene. \n",
    "</font>"
   ]
  },
  {
   "cell_type": "code",
   "execution_count": null,
   "id": "7d73ab18",
   "metadata": {},
   "outputs": [],
   "source": [
    "fig, (ax1,ax2) = plt.subplots(1,2,figsize=(14,12))\n",
    "\n",
    "im1 = ax1.imshow(sem_image_messy[345:510,370:550], cmap=\"gray\")\n",
    "ax1.axes.xaxis.set_visible(False)\n",
    "ax1.axes.yaxis.set_visible(False)\n",
    "ax1.set_title(\"SEM\", fontsize=17, pad=12)\n",
    "\n",
    "im2 = ax2.imshow(raman_map_D[50:,0:45],vmax=0.1*np.amax(raman_map_D),cmap=\"inferno\")\n",
    "cax2 = fig.add_axes([0.55,0.28, 0.36, 0.02])\n",
    "ax2.axes.xaxis.set_visible(False)\n",
    "ax2.axes.yaxis.set_visible(False)\n",
    "ax2.set_title(\"D peak height\", fontsize=17, pad=12);\n",
    "fig.colorbar(im2, ax=ax2, cax=cax2, orientation=\"horizontal\");"
   ]
  },
  {
   "cell_type": "markdown",
   "id": "6ea633d1",
   "metadata": {},
   "source": [
    "<div class=\"alert alert-block alert-success\">\n",
    "<font size=\"3\">\n",
    "<b>Extra question:</b> What graphene features in the SEM corresponds to the tallest D peak?\n",
    "</font>\n",
    "</div>"
   ]
  },
  {
   "cell_type": "markdown",
   "id": "20e71b47",
   "metadata": {},
   "source": [
    "<h2> Question Solutions </h2>"
   ]
  },
  {
   "cell_type": "markdown",
   "id": "9fb69543",
   "metadata": {},
   "source": [
    "<font size=\"4\">Question 1</font>"
   ]
  },
  {
   "cell_type": "code",
   "execution_count": null,
   "id": "db1ec0d7",
   "metadata": {},
   "outputs": [],
   "source": [
    "# Example solution code for showing the image \"sem_image_messy\"\n",
    "\n",
    "fig,ax = plt.subplots(figsize=(10,10));\n",
    "plt.imshow(sem_image_messy, cmap=\"gray\");\n",
    "plt.xticks([]);\n",
    "plt.yticks([]);"
   ]
  },
  {
   "cell_type": "markdown",
   "id": "47d34006",
   "metadata": {},
   "source": [
    "<font size=\"4\">Question 2</font>\n",
    "<font size=\"3\">\n",
    " - The graphene is not continous; the left part of the image has no graphene.\n",
    " - The graphene is wripped and has cracks in several places. (E.g. bottom right of the image)\n",
    " - There is a small island where there are many layers of graphene sequentially stacked. \n",
    "</font>"
   ]
  },
  {
   "cell_type": "markdown",
   "id": "7b66a26f",
   "metadata": {},
   "source": [
    "<font size=\"4\">Question 3</font>\n",
    "<font size=\"3\">\n",
    " - <b> Flame emission spectroscopy </b> - analyses the concentration of metals by burning them. \n",
    " - <b> Infra-red (IR) spectroscopy </b> - also looks at chemical bond vibrations.\n",
    " - <b> Nuclear Magnetic Resonance (NMR) spectroscopy </b> - looks for different chemical environments around a target element. \n",
    "</font>"
   ]
  },
  {
   "cell_type": "markdown",
   "id": "07982c7f",
   "metadata": {},
   "source": [
    "<font size=\"4\">Question 4</font>\n",
    "<br><br>\n",
    "<font size=\"3\">\n",
    "The smallest G peak occurs where there is no graphene. This corresponds to the bright region in the SEM image (left hand side). \n",
    "</font>\n"
   ]
  },
  {
   "cell_type": "markdown",
   "id": "428fddcc",
   "metadata": {},
   "source": [
    "<font size=\"4\">Question 5</font>\n",
    "<br>\n",
    "<br>\n",
    "<font size=\"3\">\n",
    "In general*, areas of graphene that look darker in the SEM (i.e. they are thicker bits of graphene), the taller the G peak. This makes sense because thicker areas have <b>more</b> graphene!\n",
    "</font>\n"
   ]
  },
  {
   "cell_type": "markdown",
   "id": "bf6acb52",
   "metadata": {},
   "source": [
    "<font size=\"4\">Extra question</font>\n",
    "<br>\n",
    "<br>\n",
    "<font size=\"3\">\n",
    "The region with the tallest D peaks correspond to wrinkles that can be seen in the SEM image. \n",
    "</font>\n"
   ]
  },
  {
   "cell_type": "code",
   "execution_count": 2,
   "id": "f4f9d19d",
   "metadata": {},
   "outputs": [
    {
     "name": "stdout",
     "output_type": "stream",
     "text": [
      "The watermark extension is already loaded. To reload it, use:\n",
      "  %reload_ext watermark\n",
      "Python implementation: CPython\n",
      "Python version       : 3.7.3\n",
      "IPython version      : 7.10.2\n",
      "\n",
      "cv2       : 4.1.2\n",
      "numpy     : 1.17.4\n",
      "matplotlib: 3.1.1\n",
      "\n",
      "Compiler    : MSC v.1915 64 bit (AMD64)\n",
      "OS          : Windows\n",
      "Release     : 10\n",
      "Machine     : AMD64\n",
      "Processor   : Intel64 Family 6 Model 78 Stepping 3, GenuineIntel\n",
      "CPU cores   : 4\n",
      "Architecture: 64bit\n",
      "\n"
     ]
    }
   ],
   "source": [
    "%load_ext watermark\n",
    "\n",
    "%watermark -v -m -p cv2,numpy,matplotlib"
   ]
  },
  {
   "cell_type": "code",
   "execution_count": null,
   "id": "73dcbe6b",
   "metadata": {},
   "outputs": [],
   "source": []
  }
 ],
 "metadata": {
  "kernelspec": {
   "display_name": "Python 3",
   "language": "python",
   "name": "python3"
  },
  "language_info": {
   "codemirror_mode": {
    "name": "ipython",
    "version": 3
   },
   "file_extension": ".py",
   "mimetype": "text/x-python",
   "name": "python",
   "nbconvert_exporter": "python",
   "pygments_lexer": "ipython3",
   "version": "3.7.3"
  }
 },
 "nbformat": 4,
 "nbformat_minor": 5
}
